{
 "cells": [
  {
   "cell_type": "code",
   "execution_count": 2,
   "metadata": {},
   "outputs": [
    {
     "name": "stderr",
     "output_type": "stream",
     "text": [
      "C:\\Users\\Will\\Anaconda3\\envs\\caiman-online\\lib\\site-packages\\tensorflow\\python\\framework\\dtypes.py:516: FutureWarning: Passing (type, 1) or '1type' as a synonym of type is deprecated; in a future version of numpy, it will be understood as (type, (1,)) / '(1,)type'.\n",
      "  _np_qint8 = np.dtype([(\"qint8\", np.int8, 1)])\n",
      "C:\\Users\\Will\\Anaconda3\\envs\\caiman-online\\lib\\site-packages\\tensorflow\\python\\framework\\dtypes.py:517: FutureWarning: Passing (type, 1) or '1type' as a synonym of type is deprecated; in a future version of numpy, it will be understood as (type, (1,)) / '(1,)type'.\n",
      "  _np_quint8 = np.dtype([(\"quint8\", np.uint8, 1)])\n",
      "C:\\Users\\Will\\Anaconda3\\envs\\caiman-online\\lib\\site-packages\\tensorflow\\python\\framework\\dtypes.py:518: FutureWarning: Passing (type, 1) or '1type' as a synonym of type is deprecated; in a future version of numpy, it will be understood as (type, (1,)) / '(1,)type'.\n",
      "  _np_qint16 = np.dtype([(\"qint16\", np.int16, 1)])\n",
      "C:\\Users\\Will\\Anaconda3\\envs\\caiman-online\\lib\\site-packages\\tensorflow\\python\\framework\\dtypes.py:519: FutureWarning: Passing (type, 1) or '1type' as a synonym of type is deprecated; in a future version of numpy, it will be understood as (type, (1,)) / '(1,)type'.\n",
      "  _np_quint16 = np.dtype([(\"quint16\", np.uint16, 1)])\n",
      "C:\\Users\\Will\\Anaconda3\\envs\\caiman-online\\lib\\site-packages\\tensorflow\\python\\framework\\dtypes.py:520: FutureWarning: Passing (type, 1) or '1type' as a synonym of type is deprecated; in a future version of numpy, it will be understood as (type, (1,)) / '(1,)type'.\n",
      "  _np_qint32 = np.dtype([(\"qint32\", np.int32, 1)])\n",
      "C:\\Users\\Will\\Anaconda3\\envs\\caiman-online\\lib\\site-packages\\tensorflow\\python\\framework\\dtypes.py:525: FutureWarning: Passing (type, 1) or '1type' as a synonym of type is deprecated; in a future version of numpy, it will be understood as (type, (1,)) / '(1,)type'.\n",
      "  np_resource = np.dtype([(\"resource\", np.ubyte, 1)])\n",
      "C:\\Users\\Will\\Anaconda3\\envs\\caiman-online\\lib\\site-packages\\tensorboard\\compat\\tensorflow_stub\\dtypes.py:541: FutureWarning: Passing (type, 1) or '1type' as a synonym of type is deprecated; in a future version of numpy, it will be understood as (type, (1,)) / '(1,)type'.\n",
      "  _np_qint8 = np.dtype([(\"qint8\", np.int8, 1)])\n",
      "C:\\Users\\Will\\Anaconda3\\envs\\caiman-online\\lib\\site-packages\\tensorboard\\compat\\tensorflow_stub\\dtypes.py:542: FutureWarning: Passing (type, 1) or '1type' as a synonym of type is deprecated; in a future version of numpy, it will be understood as (type, (1,)) / '(1,)type'.\n",
      "  _np_quint8 = np.dtype([(\"quint8\", np.uint8, 1)])\n",
      "C:\\Users\\Will\\Anaconda3\\envs\\caiman-online\\lib\\site-packages\\tensorboard\\compat\\tensorflow_stub\\dtypes.py:543: FutureWarning: Passing (type, 1) or '1type' as a synonym of type is deprecated; in a future version of numpy, it will be understood as (type, (1,)) / '(1,)type'.\n",
      "  _np_qint16 = np.dtype([(\"qint16\", np.int16, 1)])\n",
      "C:\\Users\\Will\\Anaconda3\\envs\\caiman-online\\lib\\site-packages\\tensorboard\\compat\\tensorflow_stub\\dtypes.py:544: FutureWarning: Passing (type, 1) or '1type' as a synonym of type is deprecated; in a future version of numpy, it will be understood as (type, (1,)) / '(1,)type'.\n",
      "  _np_quint16 = np.dtype([(\"quint16\", np.uint16, 1)])\n",
      "C:\\Users\\Will\\Anaconda3\\envs\\caiman-online\\lib\\site-packages\\tensorboard\\compat\\tensorflow_stub\\dtypes.py:545: FutureWarning: Passing (type, 1) or '1type' as a synonym of type is deprecated; in a future version of numpy, it will be understood as (type, (1,)) / '(1,)type'.\n",
      "  _np_qint32 = np.dtype([(\"qint32\", np.int32, 1)])\n",
      "C:\\Users\\Will\\Anaconda3\\envs\\caiman-online\\lib\\site-packages\\tensorboard\\compat\\tensorflow_stub\\dtypes.py:550: FutureWarning: Passing (type, 1) or '1type' as a synonym of type is deprecated; in a future version of numpy, it will be understood as (type, (1,)) / '(1,)type'.\n",
      "  np_resource = np.dtype([(\"resource\", np.ubyte, 1)])\n"
     ]
    }
   ],
   "source": [
    "import cv2\n",
    "import glob\n",
    "import matplotlib.pyplot as plt\n",
    "import numpy as np\n",
    "import os\n",
    "import psutil\n",
    "import scipy\n",
    "from skimage.external.tifffile import TiffFile\n",
    "import sys\n",
    "import time\n",
    "import logging\n",
    "\n",
    "try:\n",
    "    cv2.setNumThreads(0)\n",
    "except:\n",
    "    pass\n",
    "\n",
    "try:\n",
    "    if __IPYTHON__:\n",
    "        get_ipython().magic('load_ext autoreload')\n",
    "        get_ipython().magic('autoreload 2')\n",
    "except NameError:\n",
    "    pass\n",
    "\n",
    "logging.basicConfig(format=\n",
    "                          \"%(relativeCreated)12d [%(filename)s:%(funcName)20s():%(lineno)s] [%(process)d] %(message)s\",\n",
    "                    # filename=\"/tmp/caiman.log\",\n",
    "                    level=logging.INFO)\n",
    "\n",
    "import caiman as cm\n",
    "from caiman.motion_correction import MotionCorrect, tile_and_correct, motion_correction_piecewise\n",
    "from caiman.source_extraction.cnmf import params as params\n",
    "from caiman.source_extraction.cnmf import cnmf"
   ]
  },
  {
   "cell_type": "code",
   "execution_count": 3,
   "metadata": {},
   "outputs": [],
   "source": [
    "from glob import glob\n",
    "from ScanImageTiffReader import ScanImageTiffReader"
   ]
  },
  {
   "cell_type": "code",
   "execution_count": 6,
   "metadata": {},
   "outputs": [],
   "source": [
    "from caiman_online.utils import tic, toc, ptoc"
   ]
  },
  {
   "cell_type": "code",
   "execution_count": 7,
   "metadata": {},
   "outputs": [
    {
     "data": {
      "text/plain": [
       "'E:\\\\caiman_scratch\\\\ori2'"
      ]
     },
     "execution_count": 7,
     "metadata": {},
     "output_type": "execute_result"
    }
   ],
   "source": [
    "os.chdir('E:/caiman_scratch/ori2')\n",
    "os.getcwd()"
   ]
  },
  {
   "cell_type": "code",
   "execution_count": 8,
   "metadata": {},
   "outputs": [],
   "source": [
    "fnames = glob('./*tif*')[0:30]\n",
    "# m_orig = cm.load_movie_chain(fnames)\n",
    "# downsample_ratio = .2  # motion can be perceived better when downsampling in time\n",
    "# m_orig.resize(1, 1, downsample_ratio).play(q_max=99.5, fr=30, magnification=2)   # play movie (press q to exit)"
   ]
  },
  {
   "cell_type": "code",
   "execution_count": 9,
   "metadata": {},
   "outputs": [],
   "source": [
    "opts = dict(\n",
    "max_shifts = (10, 10),\n",
    "strides =  (48, 48),\n",
    "overlaps = (24, 24),\n",
    "num_frames_split = 100,\n",
    "max_deviation_rigid = 3,\n",
    "pw_rigid = False,\n",
    "shifts_opencv = True,\n",
    "border_nan = 'copy')"
   ]
  },
  {
   "cell_type": "code",
   "execution_count": null,
   "metadata": {},
   "outputs": [],
   "source": []
  },
  {
   "cell_type": "code",
   "execution_count": 10,
   "metadata": {},
   "outputs": [],
   "source": [
    "#%% start the cluster (if a cluster already exists terminate it)\n",
    "if 'dview' in locals():\n",
    "    cm.stop_server(dview=dview)\n",
    "c, dview, n_processes = cm.cluster.setup_cluster(\n",
    "    backend='local', n_processes=None, single_thread=False)"
   ]
  },
  {
   "cell_type": "code",
   "execution_count": 63,
   "metadata": {},
   "outputs": [
    {
     "name": "stderr",
     "output_type": "stream",
     "text": [
      "   388505386 [mmapping.py:    save_memmap_join():205] [20784] Memmap file for fname_tot: .\\Yr_d1_512_d2_300_d3_1_order_C_frames_763_.mmap\n",
      "   388507361 [mmapping.py:    save_memmap_join():232] [20784] Deleting big mov\n"
     ]
    }
   ],
   "source": [
    "mms = cm.save_memmap_each(\n",
    "                fnames,\n",
    "                base_name=f'testmap', \n",
    "                order='F',\n",
    "                slices=[\n",
    "                    slice(0, -1, 6),\n",
    "                    slice(0, 512),\n",
    "                    slice(100, 400)\n",
    "                ],\n",
    "            );\n",
    "\n",
    "mmj = cm.save_memmap(mms, order='C')"
   ]
  },
  {
   "cell_type": "code",
   "execution_count": 128,
   "metadata": {},
   "outputs": [
    {
     "name": "stderr",
     "output_type": "stream",
     "text": [
      "100%|██████████████████████████████████████████████████████████████████████████████████| 30/30 [00:00<00:00, 62.02it/s]\n"
     ]
    }
   ],
   "source": [
    "mov = cm.load(mm)\n",
    "mov.resize(1, 1).play(q_max=99.5, fr=30, magnification=2)"
   ]
  },
  {
   "cell_type": "code",
   "execution_count": 66,
   "metadata": {},
   "outputs": [],
   "source": [
    "os.mkdir('./temp')"
   ]
  },
  {
   "cell_type": "code",
   "execution_count": 11,
   "metadata": {},
   "outputs": [
    {
     "name": "stdout",
     "output_type": "stream",
     "text": [
      "Time elapsed: 1.2625 s\n"
     ]
    }
   ],
   "source": [
    "t = tic()\n",
    "data = []\n",
    "for f in fnames:\n",
    "    with ScanImageTiffReader(f) as reader:\n",
    "        data.append(reader.data()[slice(0, -1, 6),slice(0, 512),slice(100, 400)])\n",
    "data = np.concatenate(data)\n",
    "ptoc(t);\n",
    "        \n",
    "        \n",
    "    "
   ]
  },
  {
   "cell_type": "code",
   "execution_count": 73,
   "metadata": {},
   "outputs": [],
   "source": [
    "import tifffile"
   ]
  },
  {
   "cell_type": "code",
   "execution_count": 150,
   "metadata": {},
   "outputs": [
    {
     "name": "stdout",
     "output_type": "stream",
     "text": [
      "Time elapsed: 4.2877 s\n"
     ]
    }
   ],
   "source": [
    "t = tic()\n",
    "data = []\n",
    "for f in fnames:\n",
    "    tif = tifffile.imread(f)\n",
    "    data.append(tif[slice(0, -1, 6),slice(0, 512),slice(100, 400)])\n",
    "data = np.concatenate(data)\n",
    "ptoc(t);\n"
   ]
  },
  {
   "cell_type": "code",
   "execution_count": 151,
   "metadata": {},
   "outputs": [
    {
     "data": {
      "text/plain": [
       "(763, 512, 300)"
      ]
     },
     "execution_count": 151,
     "metadata": {},
     "output_type": "execute_result"
    }
   ],
   "source": [
    "data.shape"
   ]
  },
  {
   "cell_type": "code",
   "execution_count": 86,
   "metadata": {},
   "outputs": [
    {
     "name": "stdout",
     "output_type": "stream",
     "text": [
      "'crop_and_save_multiplane' done in 2.942s\n"
     ]
    }
   ],
   "source": [
    "paths = crop_and_save_multiplane(fnames, 0)"
   ]
  },
  {
   "cell_type": "code",
   "execution_count": 97,
   "metadata": {},
   "outputs": [],
   "source": [
    "c = crop_movie(fnames[0], slice(None), slice(None), slice(0,-1, 6))"
   ]
  },
  {
   "cell_type": "code",
   "execution_count": 98,
   "metadata": {},
   "outputs": [
    {
     "data": {
      "text/plain": [
       "(26, 512, 512)"
      ]
     },
     "execution_count": 98,
     "metadata": {},
     "output_type": "execute_result"
    }
   ],
   "source": [
    "c.shape"
   ]
  },
  {
   "cell_type": "code",
   "execution_count": 89,
   "metadata": {},
   "outputs": [],
   "source": [
    "# motion correction\n",
    "dxy = (1.5, 1.5) # spatial resolution in x and y in (um per pixel)\n",
    "max_shift_um = (12., 12.) # maximum shift in um\n",
    "patch_motion_xy = (100., 100.) # patch size for non-rigid correction in um\n",
    "\n",
    "\n",
    "caiman_params = {\n",
    "    'fr': 6.36,\n",
    "    'overlaps': (24, 24),\n",
    "    'max_deviation_rigid': 3,\n",
    "    'p': 1,  # deconv 0 is off, 1 is slow, 2 is fast\n",
    "    'nb': 3,  # background compenents -> nb: 3 for complex\n",
    "    'decay_time': 1.0,  # sensor tau\n",
    "    'gSig': (5, 5),  # expected half size of neurons in pixels, very important for proper component detection\n",
    "    'only_init': False,  # has to be `False` when seeded CNMF is used\n",
    "    'rf': None,  # half-size of the patches in pixels. Should be `None` when seeded CNMF is used.\n",
    "    'pw_rigid': True,  # piece-wise rigid flag\n",
    "    'ssub': 1,\n",
    "    'tsub': 1,\n",
    "    'do_merge': False, # new found param, testing\n",
    "    'update_background_components': False,\n",
    "    'merge_thr': 0.9999,\n",
    "    'num_frames_split': 20,\n",
    "    'border_nan': 'copy',\n",
    "    'max_shifts': [int(a/b) for a, b in zip(max_shift_um, dxy)],\n",
    "    'strides': tuple([int(a/b) for a, b in zip(patch_motion_xy, dxy)])\n",
    "}\n",
    "\n"
   ]
  },
  {
   "cell_type": "code",
   "execution_count": null,
   "metadata": {},
   "outputs": [],
   "source": []
  },
  {
   "cell_type": "code",
   "execution_count": 16,
   "metadata": {},
   "outputs": [],
   "source": [
    "max_shifts = (10, 10)\n",
    "strides =  (48, 48)\n",
    "overlaps = (24, 24)\n",
    "num_frames_split = 100\n",
    "max_deviation_rigid = 3\n",
    "niter_rig = 2\n",
    "pw_rigid = True\n",
    "shifts_opencv = True\n",
    "gSig_filt = (7,7)"
   ]
  },
  {
   "cell_type": "code",
   "execution_count": 17,
   "metadata": {},
   "outputs": [
    {
     "name": "stderr",
     "output_type": "stream",
     "text": [
      "      414385 [motion_correction.py:            __init__():181] [46272] Creating file for motion correction \"tmp_mov_mot_corr.hdf5\"\n",
      "      415129 [timeseries.py:                save():266] [46272] No file saved\n"
     ]
    },
    {
     "name": "stdout",
     "output_type": "stream",
     "text": [
      "Time elapsed: 0.8066 s\n"
     ]
    },
    {
     "data": {
      "text/plain": [
       "0.806580399999973"
      ]
     },
     "execution_count": 17,
     "metadata": {},
     "output_type": "execute_result"
    }
   ],
   "source": [
    "# create a motion correction object\n",
    "logging.basicConfig(level=logging.DEBUG)\n",
    "t = tic()\n",
    "mc = MotionCorrect(data, dview=dview, max_shifts=max_shifts,\n",
    "                  strides=strides, overlaps=overlaps,\n",
    "                  max_deviation_rigid=max_deviation_rigid, \n",
    "                  shifts_opencv=shifts_opencv, nonneg_movie=True,\n",
    "                   pw_rigid=pw_rigid, \n",
    "                  num_frames_split=num_frames_split, niter_rig=niter_rig, gSig_filt=gSig_filt)\n",
    "ptoc(t)"
   ]
  },
  {
   "cell_type": "code",
   "execution_count": 18,
   "metadata": {},
   "outputs": [
    {
     "name": "stderr",
     "output_type": "stream",
     "text": [
      "      418491 [motion_correction.py:motion_correct_pwrigid():342] [46272] Generating template by rigid motion correction\n",
      "      418867 [movies.py:      extract_shifts():371] [46272] Movie average is negative. Removing 1st percentile.\n",
      "      418884 [movies.py:      extract_shifts():389] [46272] Movie average is negative. Removing 1st percentile.\n",
      "      419357 [movies.py:      extract_shifts():371] [46272] Movie average is negative. Removing 1st percentile.\n",
      "      419373 [movies.py:      extract_shifts():389] [46272] Movie average is negative. Removing 1st percentile.\n",
      "      419874 [movies.py:      extract_shifts():371] [46272] Movie average is negative. Removing 1st percentile.\n",
      "      419891 [movies.py:      extract_shifts():389] [46272] Movie average is negative. Removing 1st percentile.\n",
      "      420345 [motion_correction.py:motion_correction_piecewise():3030] [46272] ** Starting parallel motion correction **\n",
      "      430054 [motion_correction.py:motion_correction_piecewise():3038] [46272] ** Finished parallel motion correction **\n",
      "      430192 [motion_correction.py:motion_correction_piecewise():3030] [46272] ** Starting parallel motion correction **\n",
      "      433562 [motion_correction.py:motion_correction_piecewise():3038] [46272] ** Finished parallel motion correction **\n",
      "      433692 [motion_correction.py:motion_correction_piecewise():3017] [46272] Saving file as .\\tmp_mov_mot_corr._els__d1_512_d2_300_d3_1_order_F_frames_763_.mmap\n",
      "      433695 [motion_correction.py:motion_correction_piecewise():3030] [46272] ** Starting parallel motion correction **\n",
      "      441551 [motion_correction.py:motion_correction_piecewise():3038] [46272] ** Finished parallel motion correction **\n"
     ]
    },
    {
     "name": "stdout",
     "output_type": "stream",
     "text": [
      "Time elapsed: 25.3992 s\n"
     ]
    },
    {
     "data": {
      "text/plain": [
       "25.39918789999996"
      ]
     },
     "execution_count": 18,
     "metadata": {},
     "output_type": "execute_result"
    }
   ],
   "source": [
    "t = tic()\n",
    "mc.motion_correct(save_movie=True)\n",
    "ptoc(t)"
   ]
  },
  {
   "cell_type": "code",
   "execution_count": 222,
   "metadata": {},
   "outputs": [
    {
     "ename": "ValueError",
     "evalue": "stat: embedded null character in path",
     "output_type": "error",
     "traceback": [
      "\u001b[1;31m---------------------------------------------------------------------------\u001b[0m",
      "\u001b[1;31mValueError\u001b[0m                                Traceback (most recent call last)",
      "\u001b[1;32m<ipython-input-222-a38943c939b3>\u001b[0m in \u001b[0;36m<module>\u001b[1;34m\u001b[0m\n\u001b[1;32m----> 1\u001b[1;33m \u001b[0mmov\u001b[0m\u001b[1;33m.\u001b[0m\u001b[0mapply_shifts_movie\u001b[0m\u001b[1;33m(\u001b[0m\u001b[0mdata\u001b[0m\u001b[1;33m)\u001b[0m\u001b[1;33m\u001b[0m\u001b[1;33m\u001b[0m\u001b[0m\n\u001b[0m",
      "\u001b[1;32m~\\Anaconda3\\envs\\caiman-online\\lib\\site-packages\\caiman\\motion_correction.py\u001b[0m in \u001b[0;36mapply_shifts_movie\u001b[1;34m(self, fname, rigid_shifts, save_memmap, save_base_name, order, remove_min)\u001b[0m\n\u001b[0;32m    417\u001b[0m         \"\"\"\n\u001b[0;32m    418\u001b[0m \u001b[1;33m\u001b[0m\u001b[0m\n\u001b[1;32m--> 419\u001b[1;33m         \u001b[0mY\u001b[0m \u001b[1;33m=\u001b[0m \u001b[0mcm\u001b[0m\u001b[1;33m.\u001b[0m\u001b[0mload\u001b[0m\u001b[1;33m(\u001b[0m\u001b[0mfname\u001b[0m\u001b[1;33m)\u001b[0m\u001b[1;33m.\u001b[0m\u001b[0mastype\u001b[0m\u001b[1;33m(\u001b[0m\u001b[0mnp\u001b[0m\u001b[1;33m.\u001b[0m\u001b[0mfloat32\u001b[0m\u001b[1;33m)\u001b[0m\u001b[1;33m\u001b[0m\u001b[1;33m\u001b[0m\u001b[0m\n\u001b[0m\u001b[0;32m    420\u001b[0m         \u001b[1;32mif\u001b[0m \u001b[0mremove_min\u001b[0m\u001b[1;33m:\u001b[0m\u001b[1;33m\u001b[0m\u001b[1;33m\u001b[0m\u001b[0m\n\u001b[0;32m    421\u001b[0m             \u001b[0mymin\u001b[0m \u001b[1;33m=\u001b[0m \u001b[0mY\u001b[0m\u001b[1;33m.\u001b[0m\u001b[0mmin\u001b[0m\u001b[1;33m(\u001b[0m\u001b[1;33m)\u001b[0m\u001b[1;33m\u001b[0m\u001b[1;33m\u001b[0m\u001b[0m\n",
      "\u001b[1;32m~\\Anaconda3\\envs\\caiman-online\\lib\\site-packages\\caiman\\base\\movies.py\u001b[0m in \u001b[0;36mload\u001b[1;34m(file_name, fr, start_time, meta_data, subindices, shape, var_name_hdf5, in_memory, is_behavior, bottom, top, left, right, channel, outtype, is3D)\u001b[0m\n\u001b[0;32m   1509\u001b[0m         \u001b[0mlogging\u001b[0m\u001b[1;33m.\u001b[0m\u001b[0merror\u001b[0m\u001b[1;33m(\u001b[0m\u001b[1;34m'channel not supported for single movie input'\u001b[0m\u001b[1;33m)\u001b[0m\u001b[1;33m\u001b[0m\u001b[1;33m\u001b[0m\u001b[0m\n\u001b[0;32m   1510\u001b[0m \u001b[1;33m\u001b[0m\u001b[0m\n\u001b[1;32m-> 1511\u001b[1;33m     \u001b[1;32mif\u001b[0m \u001b[0mos\u001b[0m\u001b[1;33m.\u001b[0m\u001b[0mpath\u001b[0m\u001b[1;33m.\u001b[0m\u001b[0mexists\u001b[0m\u001b[1;33m(\u001b[0m\u001b[0mfile_name\u001b[0m\u001b[1;33m)\u001b[0m\u001b[1;33m:\u001b[0m\u001b[1;33m\u001b[0m\u001b[1;33m\u001b[0m\u001b[0m\n\u001b[0m\u001b[0;32m   1512\u001b[0m         \u001b[0m_\u001b[0m\u001b[1;33m,\u001b[0m \u001b[0mextension\u001b[0m \u001b[1;33m=\u001b[0m \u001b[0mos\u001b[0m\u001b[1;33m.\u001b[0m\u001b[0mpath\u001b[0m\u001b[1;33m.\u001b[0m\u001b[0msplitext\u001b[0m\u001b[1;33m(\u001b[0m\u001b[0mfile_name\u001b[0m\u001b[1;33m)\u001b[0m\u001b[1;33m[\u001b[0m\u001b[1;33m:\u001b[0m\u001b[1;36m2\u001b[0m\u001b[1;33m]\u001b[0m\u001b[1;33m\u001b[0m\u001b[1;33m\u001b[0m\u001b[0m\n\u001b[0;32m   1513\u001b[0m \u001b[1;33m\u001b[0m\u001b[0m\n",
      "\u001b[1;32m~\\Anaconda3\\envs\\caiman-online\\lib\\genericpath.py\u001b[0m in \u001b[0;36mexists\u001b[1;34m(path)\u001b[0m\n\u001b[0;32m     17\u001b[0m     \u001b[1;34m\"\"\"Test whether a path exists.  Returns False for broken symbolic links\"\"\"\u001b[0m\u001b[1;33m\u001b[0m\u001b[1;33m\u001b[0m\u001b[0m\n\u001b[0;32m     18\u001b[0m     \u001b[1;32mtry\u001b[0m\u001b[1;33m:\u001b[0m\u001b[1;33m\u001b[0m\u001b[1;33m\u001b[0m\u001b[0m\n\u001b[1;32m---> 19\u001b[1;33m         \u001b[0mos\u001b[0m\u001b[1;33m.\u001b[0m\u001b[0mstat\u001b[0m\u001b[1;33m(\u001b[0m\u001b[0mpath\u001b[0m\u001b[1;33m)\u001b[0m\u001b[1;33m\u001b[0m\u001b[1;33m\u001b[0m\u001b[0m\n\u001b[0m\u001b[0;32m     20\u001b[0m     \u001b[1;32mexcept\u001b[0m \u001b[0mOSError\u001b[0m\u001b[1;33m:\u001b[0m\u001b[1;33m\u001b[0m\u001b[1;33m\u001b[0m\u001b[0m\n\u001b[0;32m     21\u001b[0m         \u001b[1;32mreturn\u001b[0m \u001b[1;32mFalse\u001b[0m\u001b[1;33m\u001b[0m\u001b[1;33m\u001b[0m\u001b[0m\n",
      "\u001b[1;31mValueError\u001b[0m: stat: embedded null character in path"
     ]
    }
   ],
   "source": [
    "mov."
   ]
  },
  {
   "cell_type": "code",
   "execution_count": 175,
   "metadata": {},
   "outputs": [],
   "source": [
    "original = cm.movie(data)\n",
    "original.play(q_max=99.5, fr=30, magnification=2)"
   ]
  },
  {
   "cell_type": "code",
   "execution_count": 217,
   "metadata": {},
   "outputs": [
    {
     "name": "stderr",
     "output_type": "stream",
     "text": [
      "100%|████████████████████████████████████████████████████████████████████████████████████| 1/1 [00:00<00:00,  2.15it/s]\n"
     ]
    }
   ],
   "source": [
    "# load motion corrected movie\n",
    "m_rig = cm.load(mc.mmap_file)\n",
    "# m_rig.play(q_max=99.5, fr=30, magnification=2, bord_px = 0*bord_px_rig) # press q to exit"
   ]
  },
  {
   "cell_type": "code",
   "execution_count": 218,
   "metadata": {},
   "outputs": [],
   "source": [
    "cm.concatenate([original - mc.min_mov*mc.nonneg_movie,\n",
    "                m_rig], axis=2).play(fr=60, q_max=99.5, magnification=2)"
   ]
  },
  {
   "cell_type": "code",
   "execution_count": 116,
   "metadata": {},
   "outputs": [
    {
     "data": {
      "text/plain": [
       "<matplotlib.image.AxesImage at 0x1efc1830b48>"
      ]
     },
     "execution_count": 116,
     "metadata": {},
     "output_type": "execute_result"
    },
    {
     "data": {
      "image/png": "[encoded data removed]",
      "text/plain": [
       "<Figure size 432x288 with 1 Axes>"
      ]
     },
     "metadata": {
      "needs_background": "light"
     },
     "output_type": "display_data"
    }
   ],
   "source": [
    "plt.imshow(mc.total_template_rig, aspect='auto')"
   ]
  },
  {
   "cell_type": "code",
   "execution_count": 46,
   "metadata": {},
   "outputs": [
    {
     "name": "stderr",
     "output_type": "stream",
     "text": [
      "   385456456 [params.py:                 set():969] [20784] Changing key strides in group motion from (96, 96) to (48, 48)\n",
      "   385456458 [params.py:                 set():969] [20784] Changing key overlaps in group motion from (32, 32) to (24, 24)\n",
      "   385456461 [params.py:                 set():969] [20784] Changing key num_frames_split in group motion from 80 to 100\n",
      "   385456462 [params.py:                 set():969] [20784] Changing key pw_rigid in group motion from False to True\n"
     ]
    }
   ],
   "source": [
    "p = params.CNMFParams(params_dict=opts)"
   ]
  },
  {
   "cell_type": "code",
   "execution_count": 303,
   "metadata": {},
   "outputs": [
    {
     "data": {
      "text/plain": [
       "<module 'caiman.source_extraction' from 'C:\\\\Users\\\\Will\\\\Anaconda3\\\\envs\\\\caiman-online\\\\lib\\\\site-packages\\\\caiman\\\\source_extraction\\\\__init__.py'>"
      ]
     },
     "execution_count": 303,
     "metadata": {},
     "output_type": "execute_result"
    }
   ],
   "source": [
    "cm.source_extraction"
   ]
  },
  {
   "cell_type": "code",
   "execution_count": 238,
   "metadata": {},
   "outputs": [
    {
     "name": "stderr",
     "output_type": "stream",
     "text": [
      "100%|████████████████████████████████████████████████████████████████████████████████████| 1/1 [00:00<00:00,  2.33it/s]\n"
     ]
    }
   ],
   "source": [
    "mov = cm.load(mc.mmap_file)"
   ]
  },
  {
   "cell_type": "code",
   "execution_count": 240,
   "metadata": {},
   "outputs": [],
   "source": [
    "Yr, dims, T = cm.load_memmap(mc.mmap_file[0])\n",
    "images = np.reshape(Yr.T, [T] + list(dims), order='C') "
   ]
  },
  {
   "cell_type": "code",
   "execution_count": 241,
   "metadata": {},
   "outputs": [],
   "source": [
    "cn = cnmf.CNMF(n_processes, params=p, dview=dview)"
   ]
  },
  {
   "cell_type": "code",
   "execution_count": 244,
   "metadata": {},
   "outputs": [
    {
     "name": "stderr",
     "output_type": "stream",
     "text": [
      "   397701498 [cnmf.py:                 fit():469] [20784] (763, 512, 300)\n",
      "   397701499 [cnmf.py:                 fit():486] [20784] Using 31 processes\n",
      "   397701501 [cnmf.py:                 fit():497] [20784] using 4954 pixels per process\n",
      "   397701502 [cnmf.py:                 fit():498] [20784] using 5000 block_size_spat\n",
      "   397701503 [cnmf.py:                 fit():499] [20784] using 5000 block_size_temp\n",
      "   397701505 [cnmf.py:                 fit():502] [20784] preprocessing ...\n",
      "   397701507 [pre_processing.py:interpolate_missing_data():53] [20784] Checking for missing data entries (NaN)\n",
      "   397702441 [cnmf.py:                 fit():505] [20784] initializing ...\n",
      "   397702444 [initialization.py:initialize_components():308] [20784] Variance Normalization\n",
      "   397702615 [initialization.py:initialize_components():328] [20784] Spatial/Temporal downsampling 2-photon\n",
      "   397702796 [initialization.py:           downscale():92] [20784] Downscaling using OpenCV\n",
      "   397702797 [initialization.py:initialize_components():340] [20784] Roi Initialization...\n",
      "   397702799 [initialization.py:           greedyROI():787] [20784] Greedy initialization of spatial and temporal components using spatial Gaussian filtering\n",
      "   397703201 [initialization.py:           greedyROI():803] [20784] Using rolling sum for initialization (RollingGreedyROI)\n",
      "C:\\Users\\Will\\Anaconda3\\envs\\caiman-online\\lib\\site-packages\\sklearn\\decomposition\\_nmf.py:1077: ConvergenceWarning: Maximum number of iterations 200 reached. Increase it to improve convergence.\n",
      "  \" improve convergence.\" % max_iter, ConvergenceWarning)\n",
      "   397706326 [initialization.py:initialize_components():347] [20784] Refining Components using HALS NMF iterations\n"
     ]
    },
    {
     "data": {
      "text/plain": [
       "<caiman.source_extraction.cnmf.cnmf.CNMF at 0x1efaa112c08>"
      ]
     },
     "execution_count": 244,
     "metadata": {},
     "output_type": "execute_result"
    }
   ],
   "source": [
    "cn.fit(images)"
   ]
  },
  {
   "cell_type": "code",
   "execution_count": 47,
   "metadata": {},
   "outputs": [
    {
     "data": {
      "text/plain": [
       "(slice(None, None, None), slice(None, None, None))"
      ]
     },
     "execution_count": 47,
     "metadata": {},
     "output_type": "execute_result"
    }
   ],
   "source": [
    "p.motion['indices']"
   ]
  },
  {
   "cell_type": "code",
   "execution_count": 245,
   "metadata": {},
   "outputs": [
    {
     "ename": "AttributeError",
     "evalue": "'A' object has no attribute 'val2'",
     "output_type": "error",
     "traceback": [
      "\u001b[1;31m---------------------------------------------------------------------------\u001b[0m",
      "\u001b[1;31mAttributeError\u001b[0m                            Traceback (most recent call last)",
      "\u001b[1;32m<ipython-input-245-488e90da3259>\u001b[0m in \u001b[0;36m<module>\u001b[1;34m\u001b[0m\n\u001b[0;32m      4\u001b[0m \u001b[1;33m\u001b[0m\u001b[0m\n\u001b[0;32m      5\u001b[0m \u001b[0ma\u001b[0m \u001b[1;33m=\u001b[0m \u001b[0mA\u001b[0m\u001b[1;33m(\u001b[0m\u001b[1;36m1\u001b[0m\u001b[1;33m)\u001b[0m\u001b[1;33m\u001b[0m\u001b[1;33m\u001b[0m\u001b[0m\n\u001b[1;32m----> 6\u001b[1;33m \u001b[0ma\u001b[0m\u001b[1;33m.\u001b[0m\u001b[0mval2\u001b[0m\u001b[1;33m\u001b[0m\u001b[1;33m\u001b[0m\u001b[0m\n\u001b[0m",
      "\u001b[1;31mAttributeError\u001b[0m: 'A' object has no attribute 'val2'"
     ]
    }
   ],
   "source": [
    "class A:\n",
    "    def __init__(self, val):\n",
    "        self.val = val\n",
    "        \n",
    "a = A(1)\n",
    "a.val2"
   ]
  },
  {
   "cell_type": "code",
   "execution_count": 202,
   "metadata": {},
   "outputs": [
    {
     "data": {
      "text/plain": [
       "['.\\\\tmp_mov_mot_corr._els__d1_512_d2_300_d3_1_order_F_frames_763_.mmap']"
      ]
     },
     "execution_count": 202,
     "metadata": {},
     "output_type": "execute_result"
    }
   ],
   "source": [
    "mc.mmap_file"
   ]
  },
  {
   "cell_type": "code",
   "execution_count": 40,
   "metadata": {},
   "outputs": [],
   "source": [
    "import caiman"
   ]
  },
  {
   "cell_type": "code",
   "execution_count": 41,
   "metadata": {},
   "outputs": [
    {
     "data": {
      "text/plain": [
       "'C:\\\\Users\\\\Will\\\\Anaconda3\\\\envs\\\\caiman-online\\\\lib\\\\site-packages\\\\caiman\\\\__init__.py'"
      ]
     },
     "execution_count": 41,
     "metadata": {},
     "output_type": "execute_result"
    }
   ],
   "source": [
    "caiman.__file__\n"
   ]
  },
  {
   "cell_type": "code",
   "execution_count": 305,
   "metadata": {},
   "outputs": [
    {
     "name": "stdout",
     "output_type": "stream",
     "text": [
      "{'a': 1}\n"
     ]
    }
   ],
   "source": [
    "def func1(**kwargs):\n",
    "    kwargs.setdefault('a', 1)\n",
    "    print(kwargs)\n",
    "    \n",
    "func1()"
   ]
  },
  {
   "cell_type": "code",
   "execution_count": 306,
   "metadata": {},
   "outputs": [
    {
     "name": "stderr",
     "output_type": "stream",
     "text": [
      "   562839914 [cluster.py:        start_server():229] [20784] Starting cluster...\n"
     ]
    },
    {
     "name": "stdout",
     "output_type": "stream",
     "text": [
      "Waiting for connection file: ~\\.ipython\\profile_default\\security\\ipcontroller-client.json\n",
      ".............."
     ]
    }
   ],
   "source": [
    "cm.start_server()"
   ]
  },
  {
   "cell_type": "code",
   "execution_count": 307,
   "metadata": {},
   "outputs": [
    {
     "name": "stderr",
     "output_type": "stream",
     "text": [
      "   562886175 [cluster.py:        start_server():229] [20784] Starting cluster...\n"
     ]
    }
   ],
   "source": [
    "cm.cluster.start_server()"
   ]
  },
  {
   "cell_type": "code",
   "execution_count": null,
   "metadata": {},
   "outputs": [],
   "source": []
  }
 ],
 "metadata": {
  "kernelspec": {
   "display_name": "Python 3.7.6 64-bit ('caiman-online': conda)",
   "language": "python",
   "name": "python37664bitcaimanonlineconda66bc9a4a48f5458998df98246591df70"
  },
  "language_info": {
   "codemirror_mode": {
    "name": "ipython",
    "version": 3
   },
   "file_extension": ".py",
   "mimetype": "text/x-python",
   "name": "python",
   "nbconvert_exporter": "python",
   "pygments_lexer": "ipython3",
   "version": "3.7.8"
  }
 },
 "nbformat": 4,
 "nbformat_minor": 4
}
