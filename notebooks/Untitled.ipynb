{
 "cells": [
  {
   "cell_type": "code",
   "execution_count": 1,
   "metadata": {},
   "outputs": [],
   "source": [
    "from glob import glob\n",
    "from caiman_online.utils import make_ain\n",
    "from caiman_online.pipelines import OnAcidPipeline, SeededPipeline\n",
    "import logging\n",
    "\n",
    "LOGFILE = 'E:/caiman_scratch/ori3/caiman/out/pipeline_test.log'\n",
    "LOGFORMAT = '{relativeCreated:08.0f} - {levelname:8} - [{module}:{funcName}:{lineno}] - {message}'\n",
    "logging.basicConfig(level=logging.ERROR, format=LOGFORMAT, style='{')\n",
    "logger = logging.getLogger('caiman_online')\n",
    "logger.setLevel(logging.DEBUG)\n",
    "\n",
    "folder =  'E:/caiman_scratch/ori3'\n",
    "mm3d_path = glob('E:/caiman_scratch/ori3/*.mat')[0]\n",
    "nchannels = 2\n",
    "nplanes = 3\n",
    "xslice = slice(100,400)\n",
    "batch_size_tiffs = 50\n",
    "\n",
    "# motion correction and CNMF\n",
    "dxy = (1.5, 1.5) # spatial resolution in x and y in (um per pixel)\n",
    "max_shift_um = (15., 15.) # maximum shift in um\n",
    "patch_motion_xy = (100., 100.) # patch size for non-rigid correction in um\n",
    "\n",
    "params = {\n",
    "    # CNMF\n",
    "    'fr': 6.36,\n",
    "    'p': 1,  # deconv 0 is off, 1 is slow, 2 is fast\n",
    "    'nb': 3,  # background compenents -> nb: 3 for complex\n",
    "    'decay_time': 1.0,  # sensor tau\n",
    "    'gSig': (7, 7),  # expected half size of neurons in pixels, very important for proper component detection\n",
    "    'only_init': False,  # has to be `False` when seeded CNMF is used\n",
    "    'rf': None,  # half-size of the patches in pixels. Should be `None` when seeded CNMF is used.\n",
    "    'ssub': 1,\n",
    "    'tsub': 1,\n",
    "    'do_merge': False, # new found param, testing\n",
    "    'update_background_components': True,\n",
    "    'merge_thr': 0.999,\n",
    "    # 'optimize_g': True,\n",
    "    \n",
    "    # motion\n",
    "    'gSig_filt': (7, 7), # high pass spatial filter for motion correction\n",
    "    'nonneg_movie': True,\n",
    "    'niter_rig': 1,\n",
    "    'pw_rigid': False,  # piece-wise rigid flag, slower\n",
    "    'max_deviation_rigid': 3,\n",
    "    'overlaps': (24, 24),\n",
    "    'max_shifts': [int(a/b) for a, b in zip(max_shift_um, dxy)],\n",
    "    'strides': tuple([int(a/b) for a, b in zip(patch_motion_xy, dxy)]),\n",
    "    'num_frames_split': 50,\n",
    "    'border_nan': 'copy',\n",
    "    \n",
    "    # online\n",
    "    'init_method': 'seeded',\n",
    "    'epochs': 2,\n",
    "    'show_movie': False,\n",
    "    'motion_correct': True,\n",
    "    'expected_comps': 300,\n",
    "    'update_num_comps':False,\n",
    "    'max_num_added':0,\n",
    "}\n",
    "\n",
    "class TestSeededPipeline(SeededPipeline):\n",
    "    def get_tiffs(self):\n",
    "        all_tiffs = list(self.folder.glob('*.tif*'))\n",
    "        chunked = [all_tiffs[i:i + self.batch_size_tiffs] for i in range(0, len(all_tiffs), self.batch_size_tiffs)]\n",
    "        tiffs = chunked[self.iters]\n",
    "        splits = self.validate_tiffs(tiffs)\n",
    "        logger.debug(f'Processing files: {tiffs}')\n",
    "        return tiffs, splits\n",
    "    \n",
    "class TestOnAcidPipeline(OnAcidPipeline):\n",
    "    def get_tiffs(self):\n",
    "        all_tiffs = list(self.folder.glob('*.tif*'))\n",
    "        chunked = [all_tiffs[i:i + self.batch_size_tiffs] for i in range(0, len(all_tiffs), self.batch_size_tiffs)]\n",
    "        tiffs = chunked[self.iters]\n",
    "        splits = self.validate_tiffs(tiffs)\n",
    "        logger.debug(f'Processing files: {tiffs}')\n",
    "        return tiffs, splits\n",
    "\n",
    "def test_seeded():\n",
    "    logger.info('Running test of seeded caiman batch pipeline.')\n",
    "    Ain = [make_ain(mm3d_path, p, 100, 400) for p in range(nplanes)]\n",
    "    seeded = TestSeededPipeline(folder, params, nchannels, nplanes, \n",
    "                            x_start=100, x_end=400, Ain=Ain, batch_size_tiffs=batch_size_tiffs)\n",
    "    \n",
    "    ntiffs = len(glob(folder + '/*.tif*'))\n",
    "    rounds = ntiffs//batch_size_tiffs\n",
    "    \n",
    "    for _ in range(rounds):\n",
    "        seeded.fit_batch()\n",
    "        \n",
    "def test_online():\n",
    "    logger.info('Running test of seeded OnACID pipeline.')\n",
    "    Ain = [make_ain(mm3d_path, p, 100, 400) for p in range(nplanes)]\n",
    "    seeded = TestOnAcidPipeline(folder, params, nchannels, nplanes, \n",
    "                            x_start=100, x_end=400, Ain=Ain, batch_size_tiffs=batch_size_tiffs)\n",
    "    \n",
    "    ntiffs = len(glob(folder + '/*.tif*'))\n",
    "    rounds = ntiffs//batch_size_tiffs\n",
    "    \n",
    "    for _ in range(rounds):\n",
    "        seeded.fit_batch()"
   ]
  },
  {
   "cell_type": "code",
   "execution_count": 2,
   "metadata": {},
   "outputs": [
    {
     "name": "stderr",
     "output_type": "stream",
     "text": [
      "00041474 - INFO     - [<ipython-input-1-f2de7cc5bed7>:test_online:93] - Running test of seeded OnACID pipeline.\n"
     ]
    },
    {
     "name": "stdout",
     "output_type": "stream",
     "text": [
      "Plane 0: Found 82 sources from MM3D...\n",
      "Plane 1: Found 122 sources from MM3D...\n",
      "Plane 2: Found 94 sources from MM3D...\n"
     ]
    },
    {
     "name": "stderr",
     "output_type": "stream",
     "text": [
      "00044949 - DEBUG    - [<ipython-input-1-f2de7cc5bed7>:get_tiffs:77] - Processing files: [WindowsPath('E:/caiman_scratch/ori3/20200902_w18_3_e3_00002.tif'), WindowsPath('E:/caiman_scratch/ori3/20200902_w18_3_e3_00003.tif'), WindowsPath('E:/caiman_scratch/ori3/20200902_w18_3_e3_00004.tif'), WindowsPath('E:/caiman_scratch/ori3/20200902_w18_3_e3_00005.tif'), WindowsPath('E:/caiman_scratch/ori3/20200902_w18_3_e3_00006.tif'), WindowsPath('E:/caiman_scratch/ori3/20200902_w18_3_e3_00007.tif'), WindowsPath('E:/caiman_scratch/ori3/20200902_w18_3_e3_00008.tif'), WindowsPath('E:/caiman_scratch/ori3/20200902_w18_3_e3_00009.tif'), WindowsPath('E:/caiman_scratch/ori3/20200902_w18_3_e3_00010.tif'), WindowsPath('E:/caiman_scratch/ori3/20200902_w18_3_e3_00011.tif'), WindowsPath('E:/caiman_scratch/ori3/20200902_w18_3_e3_00012.tif'), WindowsPath('E:/caiman_scratch/ori3/20200902_w18_3_e3_00013.tif'), WindowsPath('E:/caiman_scratch/ori3/20200902_w18_3_e3_00014.tif'), WindowsPath('E:/caiman_scratch/ori3/20200902_w18_3_e3_00015.tif'), WindowsPath('E:/caiman_scratch/ori3/20200902_w18_3_e3_00016.tif'), WindowsPath('E:/caiman_scratch/ori3/20200902_w18_3_e3_00017.tif'), WindowsPath('E:/caiman_scratch/ori3/20200902_w18_3_e3_00018.tif'), WindowsPath('E:/caiman_scratch/ori3/20200902_w18_3_e3_00019.tif'), WindowsPath('E:/caiman_scratch/ori3/20200902_w18_3_e3_00020.tif'), WindowsPath('E:/caiman_scratch/ori3/20200902_w18_3_e3_00021.tif'), WindowsPath('E:/caiman_scratch/ori3/20200902_w18_3_e3_00022.tif'), WindowsPath('E:/caiman_scratch/ori3/20200902_w18_3_e3_00023.tif'), WindowsPath('E:/caiman_scratch/ori3/20200902_w18_3_e3_00024.tif'), WindowsPath('E:/caiman_scratch/ori3/20200902_w18_3_e3_00025.tif'), WindowsPath('E:/caiman_scratch/ori3/20200902_w18_3_e3_00026.tif'), WindowsPath('E:/caiman_scratch/ori3/20200902_w18_3_e3_00027.tif'), WindowsPath('E:/caiman_scratch/ori3/20200902_w18_3_e3_00028.tif'), WindowsPath('E:/caiman_scratch/ori3/20200902_w18_3_e3_00029.tif'), WindowsPath('E:/caiman_scratch/ori3/20200902_w18_3_e3_00030.tif'), WindowsPath('E:/caiman_scratch/ori3/20200902_w18_3_e3_00031.tif'), WindowsPath('E:/caiman_scratch/ori3/20200902_w18_3_e3_00032.tif'), WindowsPath('E:/caiman_scratch/ori3/20200902_w18_3_e3_00033.tif'), WindowsPath('E:/caiman_scratch/ori3/20200902_w18_3_e3_00034.tif'), WindowsPath('E:/caiman_scratch/ori3/20200902_w18_3_e3_00035.tif'), WindowsPath('E:/caiman_scratch/ori3/20200902_w18_3_e3_00036.tif'), WindowsPath('E:/caiman_scratch/ori3/20200902_w18_3_e3_00037.tif'), WindowsPath('E:/caiman_scratch/ori3/20200902_w18_3_e3_00038.tif'), WindowsPath('E:/caiman_scratch/ori3/20200902_w18_3_e3_00039.tif'), WindowsPath('E:/caiman_scratch/ori3/20200902_w18_3_e3_00040.tif'), WindowsPath('E:/caiman_scratch/ori3/20200902_w18_3_e3_00041.tif'), WindowsPath('E:/caiman_scratch/ori3/20200902_w18_3_e3_00042.tif'), WindowsPath('E:/caiman_scratch/ori3/20200902_w18_3_e3_00043.tif'), WindowsPath('E:/caiman_scratch/ori3/20200902_w18_3_e3_00044.tif'), WindowsPath('E:/caiman_scratch/ori3/20200902_w18_3_e3_00045.tif'), WindowsPath('E:/caiman_scratch/ori3/20200902_w18_3_e3_00046.tif'), WindowsPath('E:/caiman_scratch/ori3/20200902_w18_3_e3_00047.tif'), WindowsPath('E:/caiman_scratch/ori3/20200902_w18_3_e3_00048.tif'), WindowsPath('E:/caiman_scratch/ori3/20200902_w18_3_e3_00049.tif'), WindowsPath('E:/caiman_scratch/ori3/20200902_w18_3_e3_00050.tif'), WindowsPath('E:/caiman_scratch/ori3/20200902_w18_3_e3_00051.tif')]\n",
      "00044950 - DEBUG    - [pipelines:fit_batch:317] - Starting OnACID worker.\n",
      "00044951 - DEBUG    - [workers:__init__:46] - Setting up params...\n",
      "00044983 - DEBUG    - [workers:_setup_folders:107] - Set temp_path to E:\\caiman_scratch\\ori3\\caiman\\tmp\n",
      "00044985 - DEBUG    - [workers:_setup_folders:110] - Set out_path to E:\\caiman_scratch\\ori3\\caiman\\out\n",
      "00044987 - INFO     - [workers:_setup_folders:114] - Set working dir to E:\\caiman_scratch\\ori3\\caiman\\tmp\n",
      "00044988 - INFO     - [workers:__init__:276] - Started seeded OnACID.\n",
      "00044989 - DEBUG    - [workers:_start_cluster:85] - backend set to local\n",
      "00044990 - DEBUG    - [workers:_start_cluster:85] - n_processes set to 30\n",
      "00044991 - DEBUG    - [workers:_start_cluster:85] - single_thread set to False\n",
      "00044992 - DEBUG    - [workers:_start_cluster:87] - Starting local cluster.\n"
     ]
    },
    {
     "name": "stdout",
     "output_type": "stream",
     "text": [
      "***** Starting Plane 0 OnACID... *****\n",
      "Starting OnACID processing...\n"
     ]
    },
    {
     "name": "stderr",
     "output_type": "stream",
     "text": [
      "00045082 - DEBUG    - [workers:_start_cluster:93] - Local cluster ready.\n",
      "00050798 - INFO     - [wrappers:wrapper_timer:17] - <caiman_online.workers.make_tiff> done in 5.715s\n",
      "C:\\Users\\Will\\Anaconda3\\envs\\caiman-online\\lib\\site-packages\\sklearn\\decomposition\\_nmf.py:1077: ConvergenceWarning: Maximum number of iterations 10 reached. Increase it to improve convergence.\n",
      "  \" improve convergence.\" % max_iter, ConvergenceWarning)\n",
      "00112286 - INFO     - [wrappers:wrapper_timer:17] - <caiman_online.workers.do_fit> done in 61.486s\n",
      "00112340 - DEBUG    - [pipelines:fit_batch:329] - Saving data.\n",
      "00113707 - ERROR    - [workers:cleanup_tmp:159] - Unable to remove file: E:\\caiman_scratch\\ori3\\caiman\\tmp\\onlinemovie.tif\n",
      "00113708 - DEBUG    - [pipelines:fit_batch:317] - Starting OnACID worker.\n",
      "00113709 - DEBUG    - [workers:__init__:46] - Setting up params...\n",
      "00113764 - DEBUG    - [workers:_setup_folders:107] - Set temp_path to E:\\caiman_scratch\\ori3\\caiman\\tmp\n",
      "00113765 - DEBUG    - [workers:_setup_folders:110] - Set out_path to E:\\caiman_scratch\\ori3\\caiman\\out\n",
      "00113766 - INFO     - [workers:_setup_folders:114] - Set working dir to E:\\caiman_scratch\\ori3\\caiman\\tmp\n",
      "00113767 - INFO     - [workers:__init__:276] - Started seeded OnACID.\n",
      "00113768 - DEBUG    - [workers:_stop_cluster:98] - Cluster stopped.\n",
      "00113769 - DEBUG    - [workers:__del__:76] - Worker object destroyed on delete.\n",
      "00113770 - DEBUG    - [workers:_start_cluster:85] - backend set to local\n",
      "00113770 - DEBUG    - [workers:_start_cluster:85] - n_processes set to 30\n",
      "00113771 - DEBUG    - [workers:_start_cluster:85] - single_thread set to False\n",
      "00113772 - DEBUG    - [workers:_start_cluster:87] - Starting local cluster.\n"
     ]
    },
    {
     "name": "stdout",
     "output_type": "stream",
     "text": [
      "***** Plane 0 done. 68.7581 s *****\n",
      "***** Starting Plane 1 OnACID... *****\n",
      "Starting OnACID processing...\n"
     ]
    },
    {
     "name": "stderr",
     "output_type": "stream",
     "text": [
      "00113870 - DEBUG    - [workers:_start_cluster:93] - Local cluster ready.\n",
      "00119921 - INFO     - [wrappers:wrapper_timer:17] - <caiman_online.workers.make_tiff> done in 6.048s\n",
      "C:\\Users\\Will\\Anaconda3\\envs\\caiman-online\\lib\\site-packages\\sklearn\\decomposition\\_nmf.py:1077: ConvergenceWarning: Maximum number of iterations 10 reached. Increase it to improve convergence.\n",
      "  \" improve convergence.\" % max_iter, ConvergenceWarning)\n",
      "00190578 - INFO     - [wrappers:wrapper_timer:17] - <caiman_online.workers.do_fit> done in 70.656s\n",
      "00190760 - DEBUG    - [pipelines:fit_batch:329] - Saving data.\n",
      "00192626 - ERROR    - [workers:cleanup_tmp:159] - Unable to remove file: E:\\caiman_scratch\\ori3\\caiman\\tmp\\onlinemovie.tif\n",
      "00192627 - DEBUG    - [pipelines:fit_batch:317] - Starting OnACID worker.\n",
      "00192628 - DEBUG    - [workers:__init__:46] - Setting up params...\n",
      "00192682 - DEBUG    - [workers:_setup_folders:107] - Set temp_path to E:\\caiman_scratch\\ori3\\caiman\\tmp\n",
      "00192683 - DEBUG    - [workers:_setup_folders:110] - Set out_path to E:\\caiman_scratch\\ori3\\caiman\\out\n",
      "00192684 - INFO     - [workers:_setup_folders:114] - Set working dir to E:\\caiman_scratch\\ori3\\caiman\\tmp\n",
      "00192685 - INFO     - [workers:__init__:276] - Started seeded OnACID.\n",
      "00192686 - DEBUG    - [workers:_stop_cluster:98] - Cluster stopped.\n",
      "00192687 - DEBUG    - [workers:__del__:76] - Worker object destroyed on delete.\n",
      "00192688 - DEBUG    - [workers:_start_cluster:85] - backend set to local\n",
      "00192689 - DEBUG    - [workers:_start_cluster:85] - n_processes set to 30\n",
      "00192690 - DEBUG    - [workers:_start_cluster:85] - single_thread set to False\n",
      "00192691 - DEBUG    - [workers:_start_cluster:87] - Starting local cluster.\n"
     ]
    },
    {
     "name": "stdout",
     "output_type": "stream",
     "text": [
      "***** Plane 1 done. 78.9194 s *****\n",
      "***** Starting Plane 2 OnACID... *****\n",
      "Starting OnACID processing...\n"
     ]
    },
    {
     "name": "stderr",
     "output_type": "stream",
     "text": [
      "00192773 - DEBUG    - [workers:_start_cluster:93] - Local cluster ready.\n",
      "00198931 - INFO     - [wrappers:wrapper_timer:17] - <caiman_online.workers.make_tiff> done in 6.155s\n",
      "C:\\Users\\Will\\Anaconda3\\envs\\caiman-online\\lib\\site-packages\\sklearn\\decomposition\\_nmf.py:1077: ConvergenceWarning: Maximum number of iterations 10 reached. Increase it to improve convergence.\n",
      "  \" improve convergence.\" % max_iter, ConvergenceWarning)\n",
      "00262511 - INFO     - [wrappers:wrapper_timer:17] - <caiman_online.workers.do_fit> done in 63.578s\n",
      "00262618 - DEBUG    - [pipelines:fit_batch:329] - Saving data.\n",
      "00264042 - ERROR    - [workers:cleanup_tmp:159] - Unable to remove file: E:\\caiman_scratch\\ori3\\caiman\\tmp\\onlinemovie.tif\n"
     ]
    },
    {
     "name": "stdout",
     "output_type": "stream",
     "text": [
      "***** Plane 2 done. 71.4169 s *****\n"
     ]
    },
    {
     "name": "stderr",
     "output_type": "stream",
     "text": [
      "00265124 - DEBUG    - [pipelines:fit_batch:380] - Successfully saved all_data to file.\n",
      "00265126 - DEBUG    - [workers:_stop_cluster:98] - Cluster stopped.\n",
      "00265126 - DEBUG    - [workers:__del__:76] - Worker object destroyed on delete.\n",
      "00272325 - DEBUG    - [<ipython-input-1-f2de7cc5bed7>:get_tiffs:77] - Processing files: [WindowsPath('E:/caiman_scratch/ori3/20200902_w18_3_e3_00052.tif'), WindowsPath('E:/caiman_scratch/ori3/20200902_w18_3_e3_00053.tif'), WindowsPath('E:/caiman_scratch/ori3/20200902_w18_3_e3_00054.tif'), WindowsPath('E:/caiman_scratch/ori3/20200902_w18_3_e3_00055.tif'), WindowsPath('E:/caiman_scratch/ori3/20200902_w18_3_e3_00056.tif'), WindowsPath('E:/caiman_scratch/ori3/20200902_w18_3_e3_00057.tif'), WindowsPath('E:/caiman_scratch/ori3/20200902_w18_3_e3_00058.tif'), WindowsPath('E:/caiman_scratch/ori3/20200902_w18_3_e3_00059.tif'), WindowsPath('E:/caiman_scratch/ori3/20200902_w18_3_e3_00060.tif'), WindowsPath('E:/caiman_scratch/ori3/20200902_w18_3_e3_00061.tif'), WindowsPath('E:/caiman_scratch/ori3/20200902_w18_3_e3_00062.tif'), WindowsPath('E:/caiman_scratch/ori3/20200902_w18_3_e3_00063.tif'), WindowsPath('E:/caiman_scratch/ori3/20200902_w18_3_e3_00064.tif'), WindowsPath('E:/caiman_scratch/ori3/20200902_w18_3_e3_00065.tif'), WindowsPath('E:/caiman_scratch/ori3/20200902_w18_3_e3_00066.tif'), WindowsPath('E:/caiman_scratch/ori3/20200902_w18_3_e3_00067.tif'), WindowsPath('E:/caiman_scratch/ori3/20200902_w18_3_e3_00068.tif'), WindowsPath('E:/caiman_scratch/ori3/20200902_w18_3_e3_00069.tif'), WindowsPath('E:/caiman_scratch/ori3/20200902_w18_3_e3_00070.tif'), WindowsPath('E:/caiman_scratch/ori3/20200902_w18_3_e3_00071.tif'), WindowsPath('E:/caiman_scratch/ori3/20200902_w18_3_e3_00072.tif'), WindowsPath('E:/caiman_scratch/ori3/20200902_w18_3_e3_00073.tif'), WindowsPath('E:/caiman_scratch/ori3/20200902_w18_3_e3_00074.tif'), WindowsPath('E:/caiman_scratch/ori3/20200902_w18_3_e3_00075.tif'), WindowsPath('E:/caiman_scratch/ori3/20200902_w18_3_e3_00076.tif'), WindowsPath('E:/caiman_scratch/ori3/20200902_w18_3_e3_00077.tif'), WindowsPath('E:/caiman_scratch/ori3/20200902_w18_3_e3_00078.tif'), WindowsPath('E:/caiman_scratch/ori3/20200902_w18_3_e3_00079.tif'), WindowsPath('E:/caiman_scratch/ori3/20200902_w18_3_e3_00080.tif'), WindowsPath('E:/caiman_scratch/ori3/20200902_w18_3_e3_00081.tif'), WindowsPath('E:/caiman_scratch/ori3/20200902_w18_3_e3_00082.tif'), WindowsPath('E:/caiman_scratch/ori3/20200902_w18_3_e3_00083.tif'), WindowsPath('E:/caiman_scratch/ori3/20200902_w18_3_e3_00084.tif'), WindowsPath('E:/caiman_scratch/ori3/20200902_w18_3_e3_00085.tif'), WindowsPath('E:/caiman_scratch/ori3/20200902_w18_3_e3_00086.tif'), WindowsPath('E:/caiman_scratch/ori3/20200902_w18_3_e3_00087.tif'), WindowsPath('E:/caiman_scratch/ori3/20200902_w18_3_e3_00088.tif'), WindowsPath('E:/caiman_scratch/ori3/20200902_w18_3_e3_00089.tif'), WindowsPath('E:/caiman_scratch/ori3/20200902_w18_3_e3_00090.tif'), WindowsPath('E:/caiman_scratch/ori3/20200902_w18_3_e3_00091.tif'), WindowsPath('E:/caiman_scratch/ori3/20200902_w18_3_e3_00092.tif'), WindowsPath('E:/caiman_scratch/ori3/20200902_w18_3_e3_00093.tif'), WindowsPath('E:/caiman_scratch/ori3/20200902_w18_3_e3_00094.tif'), WindowsPath('E:/caiman_scratch/ori3/20200902_w18_3_e3_00095.tif'), WindowsPath('E:/caiman_scratch/ori3/20200902_w18_3_e3_00096.tif'), WindowsPath('E:/caiman_scratch/ori3/20200902_w18_3_e3_00097.tif'), WindowsPath('E:/caiman_scratch/ori3/20200902_w18_3_e3_00098.tif'), WindowsPath('E:/caiman_scratch/ori3/20200902_w18_3_e3_00099.tif'), WindowsPath('E:/caiman_scratch/ori3/20200902_w18_3_e3_00100.tif'), WindowsPath('E:/caiman_scratch/ori3/20200902_w18_3_e3_00101.tif')]\n",
      "00272327 - DEBUG    - [pipelines:fit_batch:317] - Starting OnACID worker.\n",
      "00272328 - DEBUG    - [workers:__init__:46] - Setting up params...\n",
      "00272363 - DEBUG    - [workers:_setup_folders:107] - Set temp_path to E:\\caiman_scratch\\ori3\\caiman\\tmp\n",
      "00272365 - DEBUG    - [workers:_setup_folders:110] - Set out_path to E:\\caiman_scratch\\ori3\\caiman\\out\n",
      "00272367 - INFO     - [workers:_setup_folders:114] - Set working dir to E:\\caiman_scratch\\ori3\\caiman\\tmp\n",
      "00272368 - INFO     - [workers:__init__:276] - Started seeded OnACID.\n",
      "00272369 - DEBUG    - [workers:_start_cluster:85] - backend set to local\n",
      "00272370 - DEBUG    - [workers:_start_cluster:85] - n_processes set to 30\n",
      "00272371 - DEBUG    - [workers:_start_cluster:85] - single_thread set to False\n",
      "00272374 - DEBUG    - [workers:_start_cluster:87] - Starting local cluster.\n"
     ]
    },
    {
     "name": "stdout",
     "output_type": "stream",
     "text": [
      "***** Starting Plane 0 OnACID... *****\n",
      "Starting OnACID processing...\n"
     ]
    },
    {
     "name": "stderr",
     "output_type": "stream",
     "text": [
      "00272467 - DEBUG    - [workers:_start_cluster:93] - Local cluster ready.\n"
     ]
    },
    {
     "ename": "KeyboardInterrupt",
     "evalue": "",
     "output_type": "error",
     "traceback": [
      "\u001b[1;31m---------------------------------------------------------------------------\u001b[0m",
      "\u001b[1;31mKeyboardInterrupt\u001b[0m                         Traceback (most recent call last)",
      "\u001b[1;32m<ipython-input-2-01a5b049c296>\u001b[0m in \u001b[0;36m<module>\u001b[1;34m\u001b[0m\n\u001b[1;32m----> 1\u001b[1;33m \u001b[0mtest_online\u001b[0m\u001b[1;33m(\u001b[0m\u001b[1;33m)\u001b[0m\u001b[1;33m\u001b[0m\u001b[1;33m\u001b[0m\u001b[0m\n\u001b[0m",
      "\u001b[1;32m<ipython-input-1-f2de7cc5bed7>\u001b[0m in \u001b[0;36mtest_online\u001b[1;34m()\u001b[0m\n\u001b[0;32m    100\u001b[0m \u001b[1;33m\u001b[0m\u001b[0m\n\u001b[0;32m    101\u001b[0m     \u001b[1;32mfor\u001b[0m \u001b[0m_\u001b[0m \u001b[1;32min\u001b[0m \u001b[0mrange\u001b[0m\u001b[1;33m(\u001b[0m\u001b[0mrounds\u001b[0m\u001b[1;33m)\u001b[0m\u001b[1;33m:\u001b[0m\u001b[1;33m\u001b[0m\u001b[1;33m\u001b[0m\u001b[0m\n\u001b[1;32m--> 102\u001b[1;33m         \u001b[0mseeded\u001b[0m\u001b[1;33m.\u001b[0m\u001b[0mfit_batch\u001b[0m\u001b[1;33m(\u001b[0m\u001b[1;33m)\u001b[0m\u001b[1;33m\u001b[0m\u001b[1;33m\u001b[0m\u001b[0m\n\u001b[0m",
      "\u001b[1;32m~\\Lab Code\\caiman_online\\caiman_online\\pipelines.py\u001b[0m in \u001b[0;36mfit_batch\u001b[1;34m(self)\u001b[0m\n\u001b[0;32m    323\u001b[0m             \u001b[0macid_worker\u001b[0m\u001b[1;33m.\u001b[0m\u001b[0myslice\u001b[0m \u001b[1;33m=\u001b[0m \u001b[0mself\u001b[0m\u001b[1;33m.\u001b[0m\u001b[0myslice\u001b[0m\u001b[1;33m\u001b[0m\u001b[1;33m\u001b[0m\u001b[0m\n\u001b[0;32m    324\u001b[0m \u001b[1;33m\u001b[0m\u001b[0m\n\u001b[1;32m--> 325\u001b[1;33m             \u001b[0mcaiman_data\u001b[0m \u001b[1;33m=\u001b[0m \u001b[0macid_worker\u001b[0m\u001b[1;33m.\u001b[0m\u001b[0mrun\u001b[0m\u001b[1;33m(\u001b[0m\u001b[1;33m)\u001b[0m\u001b[1;33m\u001b[0m\u001b[1;33m\u001b[0m\u001b[0m\n\u001b[0m\u001b[0;32m    326\u001b[0m \u001b[1;33m\u001b[0m\u001b[0m\n\u001b[0;32m    327\u001b[0m             \u001b[1;31m# PLANE-WISE RAW DATA SAVING\u001b[0m\u001b[1;33m\u001b[0m\u001b[1;33m\u001b[0m\u001b[1;33m\u001b[0m\u001b[0m\n",
      "\u001b[1;32m~\\Lab Code\\caiman_online\\caiman_online\\workers.py\u001b[0m in \u001b[0;36mrun\u001b[1;34m(self)\u001b[0m\n\u001b[0;32m    298\u001b[0m     \u001b[1;32mdef\u001b[0m \u001b[0mrun\u001b[0m\u001b[1;33m(\u001b[0m\u001b[0mself\u001b[0m\u001b[1;33m)\u001b[0m\u001b[1;33m:\u001b[0m\u001b[1;33m\u001b[0m\u001b[1;33m\u001b[0m\u001b[0m\n\u001b[0;32m    299\u001b[0m         \u001b[0mself\u001b[0m\u001b[1;33m.\u001b[0m\u001b[0m_start_cluster\u001b[0m\u001b[1;33m(\u001b[0m\u001b[1;33m)\u001b[0m\u001b[1;33m\u001b[0m\u001b[1;33m\u001b[0m\u001b[0m\n\u001b[1;32m--> 300\u001b[1;33m         \u001b[0mmovie_path\u001b[0m \u001b[1;33m=\u001b[0m \u001b[0mself\u001b[0m\u001b[1;33m.\u001b[0m\u001b[0mmake_tiff\u001b[0m\u001b[1;33m(\u001b[0m\u001b[1;33m)\u001b[0m\u001b[1;33m\u001b[0m\u001b[1;33m\u001b[0m\u001b[0m\n\u001b[0m\u001b[0;32m    301\u001b[0m         \u001b[0mout\u001b[0m \u001b[1;33m=\u001b[0m \u001b[0mself\u001b[0m\u001b[1;33m.\u001b[0m\u001b[0mdo_fit\u001b[0m\u001b[1;33m(\u001b[0m\u001b[0mmovie_path\u001b[0m\u001b[1;33m)\u001b[0m\u001b[1;33m\u001b[0m\u001b[1;33m\u001b[0m\u001b[0m\n\u001b[0;32m    302\u001b[0m         \u001b[0mcm\u001b[0m\u001b[1;33m.\u001b[0m\u001b[0mstop_server\u001b[0m\u001b[1;33m(\u001b[0m\u001b[0mdview\u001b[0m\u001b[1;33m=\u001b[0m\u001b[0mself\u001b[0m\u001b[1;33m.\u001b[0m\u001b[0mdview\u001b[0m\u001b[1;33m)\u001b[0m\u001b[1;33m\u001b[0m\u001b[1;33m\u001b[0m\u001b[0m\n",
      "\u001b[1;32m~\\Lab Code\\caiman_online\\caiman_online\\wrappers.py\u001b[0m in \u001b[0;36mwrapper_timer\u001b[1;34m(*args, **kwargs)\u001b[0m\n\u001b[0;32m     12\u001b[0m     \u001b[1;32mdef\u001b[0m \u001b[0mwrapper_timer\u001b[0m\u001b[1;33m(\u001b[0m\u001b[1;33m*\u001b[0m\u001b[0margs\u001b[0m\u001b[1;33m,\u001b[0m \u001b[1;33m**\u001b[0m\u001b[0mkwargs\u001b[0m\u001b[1;33m)\u001b[0m\u001b[1;33m:\u001b[0m\u001b[1;33m\u001b[0m\u001b[1;33m\u001b[0m\u001b[0m\n\u001b[0;32m     13\u001b[0m         \u001b[0mstart_time\u001b[0m \u001b[1;33m=\u001b[0m \u001b[0mtime\u001b[0m\u001b[1;33m.\u001b[0m\u001b[0mperf_counter\u001b[0m\u001b[1;33m(\u001b[0m\u001b[1;33m)\u001b[0m\u001b[1;33m\u001b[0m\u001b[1;33m\u001b[0m\u001b[0m\n\u001b[1;32m---> 14\u001b[1;33m         \u001b[0mvalue\u001b[0m \u001b[1;33m=\u001b[0m \u001b[0mfunc\u001b[0m\u001b[1;33m(\u001b[0m\u001b[1;33m*\u001b[0m\u001b[0margs\u001b[0m\u001b[1;33m,\u001b[0m \u001b[1;33m**\u001b[0m\u001b[0mkwargs\u001b[0m\u001b[1;33m)\u001b[0m\u001b[1;33m\u001b[0m\u001b[1;33m\u001b[0m\u001b[0m\n\u001b[0m\u001b[0;32m     15\u001b[0m         \u001b[0mend_time\u001b[0m \u001b[1;33m=\u001b[0m \u001b[0mtime\u001b[0m\u001b[1;33m.\u001b[0m\u001b[0mperf_counter\u001b[0m\u001b[1;33m(\u001b[0m\u001b[1;33m)\u001b[0m\u001b[1;33m\u001b[0m\u001b[1;33m\u001b[0m\u001b[0m\n\u001b[0;32m     16\u001b[0m         \u001b[0mrun_time\u001b[0m \u001b[1;33m=\u001b[0m \u001b[0mend_time\u001b[0m \u001b[1;33m-\u001b[0m \u001b[0mstart_time\u001b[0m\u001b[1;33m\u001b[0m\u001b[1;33m\u001b[0m\u001b[0m\n",
      "\u001b[1;32m~\\Lab Code\\caiman_online\\caiman_online\\workers.py\u001b[0m in \u001b[0;36mmake_tiff\u001b[1;34m(self, save_path)\u001b[0m\n\u001b[0;32m    278\u001b[0m     \u001b[1;33m@\u001b[0m\u001b[0mtictoc\u001b[0m\u001b[1;33m\u001b[0m\u001b[1;33m\u001b[0m\u001b[0m\n\u001b[0;32m    279\u001b[0m     \u001b[1;32mdef\u001b[0m \u001b[0mmake_tiff\u001b[0m\u001b[1;33m(\u001b[0m\u001b[0mself\u001b[0m\u001b[1;33m,\u001b[0m \u001b[0msave_path\u001b[0m\u001b[1;33m=\u001b[0m\u001b[1;34m'./onlinemovie.tif'\u001b[0m\u001b[1;33m)\u001b[0m\u001b[1;33m:\u001b[0m\u001b[1;33m\u001b[0m\u001b[1;33m\u001b[0m\u001b[0m\n\u001b[1;32m--> 280\u001b[1;33m         \u001b[0mself\u001b[0m\u001b[1;33m.\u001b[0m\u001b[0m_validate_tiffs\u001b[0m\u001b[1;33m(\u001b[0m\u001b[1;33m)\u001b[0m\u001b[1;33m\u001b[0m\u001b[1;33m\u001b[0m\u001b[0m\n\u001b[0m\u001b[0;32m    281\u001b[0m         mov = tiffs2array(movie_list=self.files, \n\u001b[0;32m    282\u001b[0m                           \u001b[0mx_slice\u001b[0m\u001b[1;33m=\u001b[0m\u001b[0mself\u001b[0m\u001b[1;33m.\u001b[0m\u001b[0mxslice\u001b[0m\u001b[1;33m,\u001b[0m\u001b[1;33m\u001b[0m\u001b[1;33m\u001b[0m\u001b[0m\n",
      "\u001b[1;32m~\\Lab Code\\caiman_online\\caiman_online\\workers.py\u001b[0m in \u001b[0;36m_validate_tiffs\u001b[1;34m(self, bad_tiff_size)\u001b[0m\n\u001b[0;32m    127\u001b[0m \u001b[1;33m\u001b[0m\u001b[0m\n\u001b[0;32m    128\u001b[0m         \u001b[1;32mfor\u001b[0m \u001b[0mtiff\u001b[0m \u001b[1;32min\u001b[0m \u001b[0mself\u001b[0m\u001b[1;33m.\u001b[0m\u001b[0mfiles\u001b[0m\u001b[1;33m:\u001b[0m\u001b[1;33m\u001b[0m\u001b[1;33m\u001b[0m\u001b[0m\n\u001b[1;32m--> 129\u001b[1;33m             \u001b[1;32mwith\u001b[0m \u001b[0mScanImageTiffReader\u001b[0m\u001b[1;33m(\u001b[0m\u001b[0mstr\u001b[0m\u001b[1;33m(\u001b[0m\u001b[0mtiff\u001b[0m\u001b[1;33m)\u001b[0m\u001b[1;33m)\u001b[0m \u001b[1;32mas\u001b[0m \u001b[0mreader\u001b[0m\u001b[1;33m:\u001b[0m\u001b[1;33m\u001b[0m\u001b[1;33m\u001b[0m\u001b[0m\n\u001b[0m\u001b[0;32m    130\u001b[0m                 \u001b[0mdata\u001b[0m \u001b[1;33m=\u001b[0m \u001b[0mreader\u001b[0m\u001b[1;33m.\u001b[0m\u001b[0mdata\u001b[0m\u001b[1;33m(\u001b[0m\u001b[1;33m)\u001b[0m\u001b[1;33m\u001b[0m\u001b[1;33m\u001b[0m\u001b[0m\n\u001b[0;32m    131\u001b[0m                 \u001b[1;32mif\u001b[0m \u001b[0mdata\u001b[0m\u001b[1;33m.\u001b[0m\u001b[0mshape\u001b[0m\u001b[1;33m[\u001b[0m\u001b[1;36m0\u001b[0m\u001b[1;33m]\u001b[0m \u001b[1;33m<\u001b[0m \u001b[0mbad_tiff_size\u001b[0m\u001b[1;33m:\u001b[0m\u001b[1;33m\u001b[0m\u001b[1;33m\u001b[0m\u001b[0m\n",
      "\u001b[1;32m~\\Anaconda3\\envs\\caiman-online\\lib\\site-packages\\ScanImageTiffReader\\__init__.py\u001b[0m in \u001b[0;36m__init__\u001b[1;34m(self, filename)\u001b[0m\n\u001b[0;32m    171\u001b[0m         '''\n\u001b[0;32m    172\u001b[0m         \u001b[0mself\u001b[0m\u001b[1;33m.\u001b[0m\u001b[0m_is_open\u001b[0m\u001b[1;33m=\u001b[0m\u001b[1;32mFalse\u001b[0m\u001b[1;33m\u001b[0m\u001b[1;33m\u001b[0m\u001b[0m\n\u001b[1;32m--> 173\u001b[1;33m         \u001b[0mself\u001b[0m\u001b[1;33m.\u001b[0m\u001b[0mopen\u001b[0m\u001b[1;33m(\u001b[0m\u001b[0mfilename\u001b[0m\u001b[1;33m)\u001b[0m\u001b[1;33m\u001b[0m\u001b[1;33m\u001b[0m\u001b[0m\n\u001b[0m\u001b[0;32m    174\u001b[0m \u001b[1;33m\u001b[0m\u001b[0m\n\u001b[0;32m    175\u001b[0m     \u001b[1;32mdef\u001b[0m \u001b[0m__del__\u001b[0m\u001b[1;33m(\u001b[0m\u001b[0mself\u001b[0m\u001b[1;33m)\u001b[0m\u001b[1;33m:\u001b[0m\u001b[1;33m\u001b[0m\u001b[1;33m\u001b[0m\u001b[0m\n",
      "\u001b[1;32m~\\Anaconda3\\envs\\caiman-online\\lib\\site-packages\\ScanImageTiffReader\\__init__.py\u001b[0m in \u001b[0;36mopen\u001b[1;34m(self, filename)\u001b[0m\n\u001b[0;32m    218\u001b[0m         '''\n\u001b[0;32m    219\u001b[0m         \u001b[0mself\u001b[0m\u001b[1;33m.\u001b[0m\u001b[0mclose\u001b[0m\u001b[1;33m(\u001b[0m\u001b[1;33m)\u001b[0m \u001b[1;31m# just in case\u001b[0m\u001b[1;33m\u001b[0m\u001b[1;33m\u001b[0m\u001b[0m\n\u001b[1;32m--> 220\u001b[1;33m         \u001b[0mself\u001b[0m\u001b[1;33m.\u001b[0m\u001b[0m__ctx\u001b[0m\u001b[1;33m=\u001b[0m\u001b[0m_api\u001b[0m\u001b[1;33m.\u001b[0m\u001b[0mopen\u001b[0m\u001b[1;33m(\u001b[0m\u001b[0mfilename\u001b[0m\u001b[1;33m.\u001b[0m\u001b[0mencode\u001b[0m\u001b[1;33m(\u001b[0m\u001b[1;34m\"utf8\"\u001b[0m\u001b[1;33m)\u001b[0m\u001b[1;33m)\u001b[0m\u001b[1;33m\u001b[0m\u001b[1;33m\u001b[0m\u001b[0m\n\u001b[0m\u001b[0;32m    221\u001b[0m         \u001b[1;32mif\u001b[0m \u001b[0mself\u001b[0m\u001b[1;33m.\u001b[0m\u001b[0m__ctx\u001b[0m\u001b[1;33m.\u001b[0m\u001b[0mlog\u001b[0m\u001b[1;33m:\u001b[0m\u001b[1;33m\u001b[0m\u001b[1;33m\u001b[0m\u001b[0m\n\u001b[0;32m    222\u001b[0m             \u001b[1;32mraise\u001b[0m \u001b[0mException\u001b[0m\u001b[1;33m(\u001b[0m\u001b[0mself\u001b[0m\u001b[1;33m.\u001b[0m\u001b[0m__ctx\u001b[0m\u001b[1;33m.\u001b[0m\u001b[0mlog\u001b[0m\u001b[1;33m.\u001b[0m\u001b[0mdecode\u001b[0m\u001b[1;33m(\u001b[0m\u001b[1;34m\"utf-8\"\u001b[0m\u001b[1;33m,\u001b[0m\u001b[1;34m\"strict\"\u001b[0m\u001b[1;33m)\u001b[0m\u001b[1;33m)\u001b[0m\u001b[1;33m\u001b[0m\u001b[1;33m\u001b[0m\u001b[0m\n",
      "\u001b[1;31mKeyboardInterrupt\u001b[0m: "
     ]
    }
   ],
   "source": [
    "test_online()"
   ]
  },
  {
   "cell_type": "code",
   "execution_count": 5,
   "metadata": {},
   "outputs": [
    {
     "name": "stdout",
     "output_type": "stream",
     "text": [
      "blas_mkl_info:\n",
      "    libraries = ['blas', 'cblas', 'lapack', 'blas', 'cblas', 'lapack']\n",
      "    library_dirs = ['D:\\\\bld\\\\numpy_1595523078866\\\\_h_env\\\\Library\\\\lib']\n",
      "    define_macros = [('SCIPY_MKL_H', None), ('HAVE_CBLAS', None)]\n",
      "    include_dirs = ['D:\\\\bld\\\\numpy_1595523078866\\\\_h_env\\\\Library\\\\include']\n",
      "blas_opt_info:\n",
      "    libraries = ['blas', 'cblas', 'lapack', 'blas', 'cblas', 'lapack', 'blas', 'cblas', 'lapack']\n",
      "    library_dirs = ['D:\\\\bld\\\\numpy_1595523078866\\\\_h_env\\\\Library\\\\lib']\n",
      "    define_macros = [('SCIPY_MKL_H', None), ('HAVE_CBLAS', None)]\n",
      "    include_dirs = ['D:\\\\bld\\\\numpy_1595523078866\\\\_h_env\\\\Library\\\\include']\n",
      "lapack_mkl_info:\n",
      "    libraries = ['blas', 'cblas', 'lapack', 'blas', 'cblas', 'lapack']\n",
      "    library_dirs = ['D:\\\\bld\\\\numpy_1595523078866\\\\_h_env\\\\Library\\\\lib']\n",
      "    define_macros = [('SCIPY_MKL_H', None), ('HAVE_CBLAS', None)]\n",
      "    include_dirs = ['D:\\\\bld\\\\numpy_1595523078866\\\\_h_env\\\\Library\\\\include']\n",
      "lapack_opt_info:\n",
      "    libraries = ['blas', 'cblas', 'lapack', 'blas', 'cblas', 'lapack', 'blas', 'cblas', 'lapack']\n",
      "    library_dirs = ['D:\\\\bld\\\\numpy_1595523078866\\\\_h_env\\\\Library\\\\lib']\n",
      "    define_macros = [('SCIPY_MKL_H', None), ('HAVE_CBLAS', None)]\n",
      "    include_dirs = ['D:\\\\bld\\\\numpy_1595523078866\\\\_h_env\\\\Library\\\\include']\n"
     ]
    }
   ],
   "source": [
    "numpy.__config__.show()"
   ]
  },
  {
   "cell_type": "code",
   "execution_count": 4,
   "metadata": {},
   "outputs": [],
   "source": [
    "import numpy"
   ]
  },
  {
   "cell_type": "code",
   "execution_count": null,
   "metadata": {},
   "outputs": [],
   "source": []
  }
 ],
 "metadata": {
  "kernelspec": {
   "display_name": "Python 3.7.6 64-bit ('caiman-online': conda)",
   "language": "python",
   "name": "python37664bitcaimanonlineconda66bc9a4a48f5458998df98246591df70"
  },
  "language_info": {
   "codemirror_mode": {
    "name": "ipython",
    "version": 3
   },
   "file_extension": ".py",
   "mimetype": "text/x-python",
   "name": "python",
   "nbconvert_exporter": "python",
   "pygments_lexer": "ipython3",
   "version": "3.7.8"
  }
 },
 "nbformat": 4,
 "nbformat_minor": 4
}
