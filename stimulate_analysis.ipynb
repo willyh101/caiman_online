{
 "cells": [
  {
   "cell_type": "code",
   "execution_count": null,
   "metadata": {},
   "outputs": [],
   "source": [
    "from glob import glob\n",
    "\n",
    "from caiman_main import SimulateAcq\n",
    "from utils import tic, toc, ptoc, remove_artifacts, mm3d_to_img "
   ]
  },
  {
   "cell_type": "code",
   "execution_count": null,
   "metadata": {},
   "outputs": [],
   "source": [
    "# make a structural image\n",
    "# can do however you want, just needs to be an image that matches the X dims in image_params (100,400)\n",
    "\n",
    "mm3d_file = glob('E:/caiman_scratch/template/*.mat')\n",
    "img = mm3d_to_img(mm3d_file, chan=0)\n",
    "structural_image = remove_artifacts(mm3d_img, self.x_start, self.x_end)[0,:,:]"
   ]
  },
  {
   "cell_type": "code",
   "execution_count": null,
   "metadata": {},
   "outputs": [],
   "source": [
    "dxy = (1.5, 1.5) # spatial resolution in x and y in (um per pixel)\n",
    "max_shift_um = (12., 12.) # maximum shift in um\n",
    "patch_motion_xy = (25., 25.) # patch size for non-rigid correction in um\n",
    "\n",
    "image_params = {\n",
    "    'channels': 2,\n",
    "    'planes': 3,\n",
    "    'x_start': 100,\n",
    "    'x_end': 400,\n",
    "    'folder': 'E:/caiman_scratch/ori/', # this is where the tiffs are\n",
    "    'chunk_size': 10, # number of tiffs to do at once\n",
    "    'structural_img': structural_image\n",
    "}\n",
    "\n",
    "caiman_params = {\n",
    "    'fr': 6,  # imaging rate in frames per second, per plane\n",
    "    'overlaps': (24, 24),\n",
    "    'max_deviation_rigid': 3,\n",
    "    'p': 1,  # deconv 0 is off, 1 is slow, 2 is fast\n",
    "    'nb': 3,  # background compenents -> nb: 3 for complex\n",
    "    'decay_time': 1.0,  # sensor tau\n",
    "    'gSig': (7, 7),  # expected half size of neurons in pixels, very important for proper component detection\n",
    "    'only_init': False,  # has to be `False` when seeded CNMF is used\n",
    "    'rf': None,  # half-size of the patches in pixels. Should be `None` when seeded CNMF is used.\n",
    "    'pw_rigid': True,  # piece-wise rigid flag\n",
    "    'ssub': 1,\n",
    "    'tsub': 1,\n",
    "    'merge_thr': 0.99,\n",
    "    'num_frames_split': 20,\n",
    "    'border_nan': 'copy',\n",
    "    'max_shifts': [int(a/b) for a, b in zip(max_shift_um, dxy)],\n",
    "    'strides': tuple([int(a/b) for a, b in zip(patch_motion_xy, dxy)])\n",
    "}"
   ]
  }
 ],
 "metadata": {
  "language_info": {
   "codemirror_mode": {
    "name": "ipython",
    "version": 3
   },
   "file_extension": ".py",
   "mimetype": "text/x-python",
   "name": "python",
   "nbconvert_exporter": "python",
   "pygments_lexer": "ipython3",
   "version": 3
  },
  "orig_nbformat": 2
 },
 "nbformat": 4,
 "nbformat_minor": 2
}